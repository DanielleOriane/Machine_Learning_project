{
 "cells": [
  {
   "cell_type": "code",
   "execution_count": 1,
   "id": "d99021f1-0931-49ee-ace2-47469bfcffbf",
   "metadata": {},
   "outputs": [],
   "source": [
    "import pandas as pd\n",
    "import numpy as np\n",
    "import matplotlib.pyplot as plt\n",
    "import seaborn as sns\n",
    "from sklearn.model_selection import train_test_split\n",
    "from sklearn.linear_model import LinearRegression\n",
    "from sklearn.svm import SVR\n",
    "from sklearn.ensemble import RandomForestRegressor\n",
    "from sklearn.ensemble import GradientBoostingRegressor\n",
    "from sklearn import metrics\n"
   ]
  },
  {
   "cell_type": "markdown",
   "id": "e29018fc-728a-472a-b526-f48d56c4db36",
   "metadata": {},
   "source": [
    "### Data collection"
   ]
  },
  {
   "cell_type": "code",
   "execution_count": 2,
   "id": "00e4a879-4bcc-4eb4-93fc-c2ac46dc174a",
   "metadata": {},
   "outputs": [
    {
     "data": {
      "text/html": [
       "<div>\n",
       "<style scoped>\n",
       "    .dataframe tbody tr th:only-of-type {\n",
       "        vertical-align: middle;\n",
       "    }\n",
       "\n",
       "    .dataframe tbody tr th {\n",
       "        vertical-align: top;\n",
       "    }\n",
       "\n",
       "    .dataframe thead th {\n",
       "        text-align: right;\n",
       "    }\n",
       "</style>\n",
       "<table border=\"1\" class=\"dataframe\">\n",
       "  <thead>\n",
       "    <tr style=\"text-align: right;\">\n",
       "      <th></th>\n",
       "      <th>age</th>\n",
       "      <th>sex</th>\n",
       "      <th>bmi</th>\n",
       "      <th>children</th>\n",
       "      <th>smoker</th>\n",
       "      <th>region</th>\n",
       "      <th>charges</th>\n",
       "    </tr>\n",
       "  </thead>\n",
       "  <tbody>\n",
       "    <tr>\n",
       "      <th>0</th>\n",
       "      <td>19</td>\n",
       "      <td>female</td>\n",
       "      <td>27.900</td>\n",
       "      <td>0</td>\n",
       "      <td>yes</td>\n",
       "      <td>southwest</td>\n",
       "      <td>16884.92400</td>\n",
       "    </tr>\n",
       "    <tr>\n",
       "      <th>1</th>\n",
       "      <td>18</td>\n",
       "      <td>male</td>\n",
       "      <td>33.770</td>\n",
       "      <td>1</td>\n",
       "      <td>no</td>\n",
       "      <td>southeast</td>\n",
       "      <td>1725.55230</td>\n",
       "    </tr>\n",
       "    <tr>\n",
       "      <th>2</th>\n",
       "      <td>28</td>\n",
       "      <td>male</td>\n",
       "      <td>33.000</td>\n",
       "      <td>3</td>\n",
       "      <td>no</td>\n",
       "      <td>southeast</td>\n",
       "      <td>4449.46200</td>\n",
       "    </tr>\n",
       "    <tr>\n",
       "      <th>3</th>\n",
       "      <td>33</td>\n",
       "      <td>male</td>\n",
       "      <td>22.705</td>\n",
       "      <td>0</td>\n",
       "      <td>no</td>\n",
       "      <td>northwest</td>\n",
       "      <td>21984.47061</td>\n",
       "    </tr>\n",
       "    <tr>\n",
       "      <th>4</th>\n",
       "      <td>32</td>\n",
       "      <td>male</td>\n",
       "      <td>28.880</td>\n",
       "      <td>0</td>\n",
       "      <td>no</td>\n",
       "      <td>northwest</td>\n",
       "      <td>3866.85520</td>\n",
       "    </tr>\n",
       "  </tbody>\n",
       "</table>\n",
       "</div>"
      ],
      "text/plain": [
       "   age     sex     bmi  children smoker     region      charges\n",
       "0   19  female  27.900         0    yes  southwest  16884.92400\n",
       "1   18    male  33.770         1     no  southeast   1725.55230\n",
       "2   28    male  33.000         3     no  southeast   4449.46200\n",
       "3   33    male  22.705         0     no  northwest  21984.47061\n",
       "4   32    male  28.880         0     no  northwest   3866.85520"
      ]
     },
     "execution_count": 2,
     "metadata": {},
     "output_type": "execute_result"
    }
   ],
   "source": [
    "df = pd.read_csv(\"Dataset_medical_insurance/insurance.csv\")\n",
    "df.head()"
   ]
  },
  {
   "cell_type": "markdown",
   "id": "f0d47b1f-cf4c-4d91-9295-0cf3fa969317",
   "metadata": {},
   "source": [
    "### Data Analysis and cleaning"
   ]
  },
  {
   "cell_type": "code",
   "execution_count": 3,
   "id": "2e7d3a9c-e008-479a-b5dd-b2aa2de18c6d",
   "metadata": {},
   "outputs": [
    {
     "data": {
      "text/plain": [
       "(1338, 7)"
      ]
     },
     "execution_count": 3,
     "metadata": {},
     "output_type": "execute_result"
    }
   ],
   "source": [
    "df.shape"
   ]
  },
  {
   "cell_type": "code",
   "execution_count": 4,
   "id": "00bcc11c-ca1f-4a7e-b584-f05356f2dc99",
   "metadata": {},
   "outputs": [
    {
     "name": "stdout",
     "output_type": "stream",
     "text": [
      "<class 'pandas.core.frame.DataFrame'>\n",
      "RangeIndex: 1338 entries, 0 to 1337\n",
      "Data columns (total 7 columns):\n",
      " #   Column    Non-Null Count  Dtype  \n",
      "---  ------    --------------  -----  \n",
      " 0   age       1338 non-null   int64  \n",
      " 1   sex       1338 non-null   object \n",
      " 2   bmi       1338 non-null   float64\n",
      " 3   children  1338 non-null   int64  \n",
      " 4   smoker    1338 non-null   object \n",
      " 5   region    1338 non-null   object \n",
      " 6   charges   1338 non-null   float64\n",
      "dtypes: float64(2), int64(2), object(3)\n",
      "memory usage: 73.3+ KB\n"
     ]
    }
   ],
   "source": [
    "df.info()"
   ]
  },
  {
   "cell_type": "code",
   "execution_count": 5,
   "id": "1b9bfd55-344d-4e5b-bbed-646a5b9d5c33",
   "metadata": {},
   "outputs": [
    {
     "data": {
      "text/html": [
       "<div>\n",
       "<style scoped>\n",
       "    .dataframe tbody tr th:only-of-type {\n",
       "        vertical-align: middle;\n",
       "    }\n",
       "\n",
       "    .dataframe tbody tr th {\n",
       "        vertical-align: top;\n",
       "    }\n",
       "\n",
       "    .dataframe thead th {\n",
       "        text-align: right;\n",
       "    }\n",
       "</style>\n",
       "<table border=\"1\" class=\"dataframe\">\n",
       "  <thead>\n",
       "    <tr style=\"text-align: right;\">\n",
       "      <th></th>\n",
       "      <th>age</th>\n",
       "      <th>bmi</th>\n",
       "      <th>children</th>\n",
       "      <th>charges</th>\n",
       "    </tr>\n",
       "  </thead>\n",
       "  <tbody>\n",
       "    <tr>\n",
       "      <th>count</th>\n",
       "      <td>1338.000000</td>\n",
       "      <td>1338.000000</td>\n",
       "      <td>1338.000000</td>\n",
       "      <td>1338.000000</td>\n",
       "    </tr>\n",
       "    <tr>\n",
       "      <th>mean</th>\n",
       "      <td>39.207025</td>\n",
       "      <td>30.663397</td>\n",
       "      <td>1.094918</td>\n",
       "      <td>13270.422265</td>\n",
       "    </tr>\n",
       "    <tr>\n",
       "      <th>std</th>\n",
       "      <td>14.049960</td>\n",
       "      <td>6.098187</td>\n",
       "      <td>1.205493</td>\n",
       "      <td>12110.011237</td>\n",
       "    </tr>\n",
       "    <tr>\n",
       "      <th>min</th>\n",
       "      <td>18.000000</td>\n",
       "      <td>15.960000</td>\n",
       "      <td>0.000000</td>\n",
       "      <td>1121.873900</td>\n",
       "    </tr>\n",
       "    <tr>\n",
       "      <th>25%</th>\n",
       "      <td>27.000000</td>\n",
       "      <td>26.296250</td>\n",
       "      <td>0.000000</td>\n",
       "      <td>4740.287150</td>\n",
       "    </tr>\n",
       "    <tr>\n",
       "      <th>50%</th>\n",
       "      <td>39.000000</td>\n",
       "      <td>30.400000</td>\n",
       "      <td>1.000000</td>\n",
       "      <td>9382.033000</td>\n",
       "    </tr>\n",
       "    <tr>\n",
       "      <th>75%</th>\n",
       "      <td>51.000000</td>\n",
       "      <td>34.693750</td>\n",
       "      <td>2.000000</td>\n",
       "      <td>16639.912515</td>\n",
       "    </tr>\n",
       "    <tr>\n",
       "      <th>max</th>\n",
       "      <td>64.000000</td>\n",
       "      <td>53.130000</td>\n",
       "      <td>5.000000</td>\n",
       "      <td>63770.428010</td>\n",
       "    </tr>\n",
       "  </tbody>\n",
       "</table>\n",
       "</div>"
      ],
      "text/plain": [
       "               age          bmi     children       charges\n",
       "count  1338.000000  1338.000000  1338.000000   1338.000000\n",
       "mean     39.207025    30.663397     1.094918  13270.422265\n",
       "std      14.049960     6.098187     1.205493  12110.011237\n",
       "min      18.000000    15.960000     0.000000   1121.873900\n",
       "25%      27.000000    26.296250     0.000000   4740.287150\n",
       "50%      39.000000    30.400000     1.000000   9382.033000\n",
       "75%      51.000000    34.693750     2.000000  16639.912515\n",
       "max      64.000000    53.130000     5.000000  63770.428010"
      ]
     },
     "execution_count": 5,
     "metadata": {},
     "output_type": "execute_result"
    }
   ],
   "source": [
    "df.describe()"
   ]
  },
  {
   "cell_type": "code",
   "execution_count": 6,
   "id": "d907b185-a8b7-470c-bc61-e0cca85c0ca0",
   "metadata": {},
   "outputs": [
    {
     "data": {
      "text/plain": [
       "age         0\n",
       "sex         0\n",
       "bmi         0\n",
       "children    0\n",
       "smoker      0\n",
       "region      0\n",
       "charges     0\n",
       "dtype: int64"
      ]
     },
     "execution_count": 6,
     "metadata": {},
     "output_type": "execute_result"
    }
   ],
   "source": [
    "# Checking for null values\n",
    "df.isnull().sum()  # There are none nullvalues here"
   ]
  },
  {
   "cell_type": "code",
   "execution_count": 7,
   "id": "ee1f3275-02a9-4159-abff-cd83e9a14f97",
   "metadata": {},
   "outputs": [
    {
     "name": "stdout",
     "output_type": "stream",
     "text": [
      "(1338, 7)\n",
      "(1337, 7)\n"
     ]
    }
   ],
   "source": [
    "# Checking for duplicates\n",
    "print (df.shape)\n",
    "df_drop_dup = df.drop_duplicates()\n",
    "print (df_drop_dup.shape)"
   ]
  },
  {
   "cell_type": "code",
   "execution_count": null,
   "id": "1b1b0b18-ac5c-4e6d-ab2d-7d1af9670e6a",
   "metadata": {},
   "outputs": [],
   "source": [
    "# There was one duplicate row. This got removed."
   ]
  },
  {
   "cell_type": "code",
   "execution_count": 12,
   "id": "9388704e-e0e4-41c2-bc40-9c4fe19858bf",
   "metadata": {},
   "outputs": [],
   "source": [
    "### Show the distribution of each features"
   ]
  },
  {
   "cell_type": "code",
   "execution_count": 8,
   "id": "f621ae2a-ffe3-4d27-b9e2-f6756a64d3c5",
   "metadata": {},
   "outputs": [
    {
     "data": {
      "text/plain": [
       "<function matplotlib.pyplot.show(close=None, block=None)>"
      ]
     },
     "execution_count": 8,
     "metadata": {},
     "output_type": "execute_result"
    },
    {
     "data": {
      "text/plain": [
       "<Figure size 600x600 with 0 Axes>"
      ]
     },
     "metadata": {},
     "output_type": "display_data"
    },
    {
     "data": {
      "image/png": "[encoded data removed]",
      "text/plain": [
       "<Figure size 500x500 with 1 Axes>"
      ]
     },
     "metadata": {},
     "output_type": "display_data"
    }
   ],
   "source": [
    "# Age distribution\n",
    "sns.set()\n",
    "plt.figure(figsize=(6,6))\n",
    "sns.displot(df_drop_dup.age)\n",
    "plt.title(\"Distribution of age\")\n",
    "plt.show"
   ]
  },
  {
   "cell_type": "code",
   "execution_count": null,
   "id": "1cae423a-298c-4eda-9037-c9aa35e7b92e",
   "metadata": {},
   "outputs": [],
   "source": [
    "# The distribution of age is almost equal. Most number of values are between 18-22 (most number of people in this dataset are between 18-22). \n",
    "#The rest are almost equal distributed  "
   ]
  },
  {
   "cell_type": "code",
   "execution_count": 9,
   "id": "e48e129c-54a4-465a-ae5a-377b7ccb9c82",
   "metadata": {},
   "outputs": [
    {
     "data": {
      "text/plain": [
       "<function matplotlib.pyplot.show(close=None, block=None)>"
      ]
     },
     "execution_count": 9,
     "metadata": {},
     "output_type": "execute_result"
    },
    {
     "data": {
      "image/png": "[encoded data removed]",
      "text/plain": [
       "<Figure size 600x600 with 1 Axes>"
      ]
     },
     "metadata": {},
     "output_type": "display_data"
    }
   ],
   "source": [
    "# Gender distribution\n",
    "plt.figure(figsize=(6,6))\n",
    "sns.countplot(x= 'sex', data = df_drop_dup) # Countplot for categorical features \n",
    "plt.title(\"Gender distribution\")\n",
    "plt.show"
   ]
  },
  {
   "cell_type": "code",
   "execution_count": 14,
   "id": "cef8f391-d881-4aca-b90f-67d70bc56b17",
   "metadata": {},
   "outputs": [
    {
     "data": {
      "text/plain": [
       "male      675\n",
       "female    662\n",
       "Name: sex, dtype: int64"
      ]
     },
     "execution_count": 14,
     "metadata": {},
     "output_type": "execute_result"
    }
   ],
   "source": [
    "df_drop_dup.sex.value_counts()"
   ]
  },
  {
   "cell_type": "code",
   "execution_count": 15,
   "id": "60fbb21d-f938-4568-ae83-0cae02252b57",
   "metadata": {},
   "outputs": [],
   "source": [
    "## the gender are equal distributed"
   ]
  },
  {
   "cell_type": "code",
   "execution_count": 16,
   "id": "eb9f3acc-ea31-4c49-a481-16303fc699c6",
   "metadata": {},
   "outputs": [
    {
     "data": {
      "text/plain": [
       "<function matplotlib.pyplot.show(close=None, block=None)>"
      ]
     },
     "execution_count": 16,
     "metadata": {},
     "output_type": "execute_result"
    },
    {
     "data": {
      "text/plain": [
       "<Figure size 600x600 with 0 Axes>"
      ]
     },
     "metadata": {},
     "output_type": "display_data"
    },
    {
     "data": {
      "image/png": "[encoded data removed]",
      "text/plain": [
       "<Figure size 500x500 with 1 Axes>"
      ]
     },
     "metadata": {},
     "output_type": "display_data"
    }
   ],
   "source": [
    "# Gender distribution\n",
    "plt.figure(figsize=(6,6))\n",
    "sns.displot(df_drop_dup.bmi)\n",
    "plt.title(\" BMI distribution\")\n",
    "plt.show"
   ]
  },
  {
   "cell_type": "code",
   "execution_count": 17,
   "id": "2e333bfa-1660-410c-b8f4-6438213d0c2b",
   "metadata": {},
   "outputs": [],
   "source": [
    "## BMI is normal distributed. the most values are in the middle (30)\n",
    "## The normal BMI range is between 18.5 and 24.9. Values lower or greater than this range indicates resp. an underweight or overweight.\n",
    "## Since most of the people in this dataset have a BMI around 30, this means, people in this dataset are majority overweight"
   ]
  },
  {
   "cell_type": "code",
   "execution_count": 18,
   "id": "da463db9-3af4-454a-b3be-f84c73255bbf",
   "metadata": {},
   "outputs": [
    {
     "data": {
      "text/plain": [
       "<function matplotlib.pyplot.show(close=None, block=None)>"
      ]
     },
     "execution_count": 18,
     "metadata": {},
     "output_type": "execute_result"
    },
    {
     "data": {
      "text/plain": [
       "<Figure size 600x600 with 0 Axes>"
      ]
     },
     "metadata": {},
     "output_type": "display_data"
    },
    {
     "data": {
      "image/png": "[encoded data removed]",
      "text/plain": [
       "<Figure size 500x500 with 1 Axes>"
      ]
     },
     "metadata": {},
     "output_type": "display_data"
    }
   ],
   "source": [
    "# children distribution\n",
    "plt.figure(figsize=(6,6))\n",
    "sns.displot(df_drop_dup.children)\n",
    "plt.title(\"Children distribution\")\n",
    "plt.show"
   ]
  },
  {
   "cell_type": "code",
   "execution_count": 13,
   "id": "7bc3f7a2-9691-48bc-962b-56c813d51ea0",
   "metadata": {},
   "outputs": [
    {
     "data": {
      "text/plain": [
       "0    573\n",
       "1    324\n",
       "2    240\n",
       "3    157\n",
       "4     25\n",
       "5     18\n",
       "Name: children, dtype: int64"
      ]
     },
     "execution_count": 13,
     "metadata": {},
     "output_type": "execute_result"
    }
   ],
   "source": [
    "df_drop_dup.children.value_counts()"
   ]
  },
  {
   "cell_type": "code",
   "execution_count": null,
   "id": "28fb8c6d-d5cd-46d0-9de8-e8d7c62957d9",
   "metadata": {},
   "outputs": [],
   "source": [
    "## most of people does not have Children (0)"
   ]
  },
  {
   "cell_type": "code",
   "execution_count": 19,
   "id": "5e0e9805-93b8-4758-b2b4-175a309823e3",
   "metadata": {},
   "outputs": [
    {
     "data": {
      "text/plain": [
       "<function matplotlib.pyplot.show(close=None, block=None)>"
      ]
     },
     "execution_count": 19,
     "metadata": {},
     "output_type": "execute_result"
    },
    {
     "data": {
      "image/png": "[encoded data removed]",
      "text/plain": [
       "<Figure size 600x600 with 1 Axes>"
      ]
     },
     "metadata": {},
     "output_type": "display_data"
    }
   ],
   "source": [
    "# Smoker distribution\n",
    "plt.figure(figsize=(6,6))\n",
    "sns.countplot(x= 'smoker', data = df_drop_dup) # Countplot for categorical features \n",
    "plt.title(\"Smoker distribution\")\n",
    "plt.show"
   ]
  },
  {
   "cell_type": "code",
   "execution_count": 20,
   "id": "3b9319e2-16f0-4da9-83ad-998e6d2662ba",
   "metadata": {},
   "outputs": [
    {
     "data": {
      "text/plain": [
       "no     1063\n",
       "yes     274\n",
       "Name: smoker, dtype: int64"
      ]
     },
     "execution_count": 20,
     "metadata": {},
     "output_type": "execute_result"
    }
   ],
   "source": [
    "df_drop_dup.smoker.value_counts()"
   ]
  },
  {
   "cell_type": "code",
   "execution_count": null,
   "id": "45c32713-8c17-4faf-a44c-cb6c64ccc8a2",
   "metadata": {},
   "outputs": [],
   "source": [
    "## Most of the people in this dataset are non smoker "
   ]
  },
  {
   "cell_type": "code",
   "execution_count": 21,
   "id": "2457d2a0-bb89-448d-a94d-ef4d5d0a1bae",
   "metadata": {},
   "outputs": [
    {
     "data": {
      "text/plain": [
       "<function matplotlib.pyplot.show(close=None, block=None)>"
      ]
     },
     "execution_count": 21,
     "metadata": {},
     "output_type": "execute_result"
    },
    {
     "data": {
      "image/png": "[encoded data removed]",
      "text/plain": [
       "<Figure size 600x600 with 1 Axes>"
      ]
     },
     "metadata": {},
     "output_type": "display_data"
    }
   ],
   "source": [
    "# Region distribution\n",
    "plt.figure(figsize=(6,6))\n",
    "sns.countplot(x= 'region', data = df_drop_dup) # Countplot for categorical features \n",
    "plt.title(\"Region distribution\")\n",
    "plt.show"
   ]
  },
  {
   "cell_type": "code",
   "execution_count": 22,
   "id": "43ca4bdc-fcbb-46c4-b106-01b5a0e75cf6",
   "metadata": {},
   "outputs": [
    {
     "data": {
      "text/plain": [
       "southeast    364\n",
       "southwest    325\n",
       "northwest    324\n",
       "northeast    324\n",
       "Name: region, dtype: int64"
      ]
     },
     "execution_count": 22,
     "metadata": {},
     "output_type": "execute_result"
    }
   ],
   "source": [
    "df_drop_dup.region.value_counts()"
   ]
  },
  {
   "cell_type": "code",
   "execution_count": 27,
   "id": "7b29e1bf-7113-4728-99ba-e878877f63c0",
   "metadata": {},
   "outputs": [],
   "source": [
    "## Regions are almost equally distributed"
   ]
  },
  {
   "cell_type": "code",
   "execution_count": 23,
   "id": "eaa7a146-2755-4308-8b24-e89a8a549230",
   "metadata": {},
   "outputs": [
    {
     "data": {
      "text/plain": [
       "<function matplotlib.pyplot.show(close=None, block=None)>"
      ]
     },
     "execution_count": 23,
     "metadata": {},
     "output_type": "execute_result"
    },
    {
     "data": {
      "text/plain": [
       "<Figure size 600x600 with 0 Axes>"
      ]
     },
     "metadata": {},
     "output_type": "display_data"
    },
    {
     "data": {
      "image/png": "[encoded data removed]",
      "text/plain": [
       "<Figure size 500x500 with 1 Axes>"
      ]
     },
     "metadata": {},
     "output_type": "display_data"
    }
   ],
   "source": [
    "# Charges distribution\n",
    "plt.figure(figsize=(6,6))\n",
    "sns.displot(df_drop_dup.charges)\n",
    "plt.title(\" Charges distribution\")\n",
    "plt.show"
   ]
  },
  {
   "cell_type": "code",
   "execution_count": 34,
   "id": "1aad0e45-8416-4ed7-8f0d-47658ef08caa",
   "metadata": {},
   "outputs": [],
   "source": [
    "## Most of people have insurance charges around 10.000 dollars"
   ]
  },
  {
   "cell_type": "code",
   "execution_count": 28,
   "id": "24c3850f-d719-42fc-81fe-e1c8ac363bf4",
   "metadata": {},
   "outputs": [
    {
     "data": {
      "text/html": [
       "<div>\n",
       "<style scoped>\n",
       "    .dataframe tbody tr th:only-of-type {\n",
       "        vertical-align: middle;\n",
       "    }\n",
       "\n",
       "    .dataframe tbody tr th {\n",
       "        vertical-align: top;\n",
       "    }\n",
       "\n",
       "    .dataframe thead th {\n",
       "        text-align: right;\n",
       "    }\n",
       "</style>\n",
       "<table border=\"1\" class=\"dataframe\">\n",
       "  <thead>\n",
       "    <tr style=\"text-align: right;\">\n",
       "      <th></th>\n",
       "      <th>age</th>\n",
       "      <th>sex</th>\n",
       "      <th>bmi</th>\n",
       "      <th>children</th>\n",
       "      <th>smoker</th>\n",
       "      <th>region</th>\n",
       "      <th>charges</th>\n",
       "    </tr>\n",
       "  </thead>\n",
       "  <tbody>\n",
       "    <tr>\n",
       "      <th>0</th>\n",
       "      <td>19</td>\n",
       "      <td>female</td>\n",
       "      <td>27.900</td>\n",
       "      <td>0</td>\n",
       "      <td>yes</td>\n",
       "      <td>southwest</td>\n",
       "      <td>16884.92400</td>\n",
       "    </tr>\n",
       "    <tr>\n",
       "      <th>1</th>\n",
       "      <td>18</td>\n",
       "      <td>male</td>\n",
       "      <td>33.770</td>\n",
       "      <td>1</td>\n",
       "      <td>no</td>\n",
       "      <td>southeast</td>\n",
       "      <td>1725.55230</td>\n",
       "    </tr>\n",
       "    <tr>\n",
       "      <th>2</th>\n",
       "      <td>28</td>\n",
       "      <td>male</td>\n",
       "      <td>33.000</td>\n",
       "      <td>3</td>\n",
       "      <td>no</td>\n",
       "      <td>southeast</td>\n",
       "      <td>4449.46200</td>\n",
       "    </tr>\n",
       "    <tr>\n",
       "      <th>3</th>\n",
       "      <td>33</td>\n",
       "      <td>male</td>\n",
       "      <td>22.705</td>\n",
       "      <td>0</td>\n",
       "      <td>no</td>\n",
       "      <td>northwest</td>\n",
       "      <td>21984.47061</td>\n",
       "    </tr>\n",
       "    <tr>\n",
       "      <th>4</th>\n",
       "      <td>32</td>\n",
       "      <td>male</td>\n",
       "      <td>28.880</td>\n",
       "      <td>0</td>\n",
       "      <td>no</td>\n",
       "      <td>northwest</td>\n",
       "      <td>3866.85520</td>\n",
       "    </tr>\n",
       "    <tr>\n",
       "      <th>...</th>\n",
       "      <td>...</td>\n",
       "      <td>...</td>\n",
       "      <td>...</td>\n",
       "      <td>...</td>\n",
       "      <td>...</td>\n",
       "      <td>...</td>\n",
       "      <td>...</td>\n",
       "    </tr>\n",
       "    <tr>\n",
       "      <th>1332</th>\n",
       "      <td>50</td>\n",
       "      <td>male</td>\n",
       "      <td>30.970</td>\n",
       "      <td>3</td>\n",
       "      <td>no</td>\n",
       "      <td>northwest</td>\n",
       "      <td>10600.54830</td>\n",
       "    </tr>\n",
       "    <tr>\n",
       "      <th>1333</th>\n",
       "      <td>18</td>\n",
       "      <td>female</td>\n",
       "      <td>31.920</td>\n",
       "      <td>0</td>\n",
       "      <td>no</td>\n",
       "      <td>northeast</td>\n",
       "      <td>2205.98080</td>\n",
       "    </tr>\n",
       "    <tr>\n",
       "      <th>1334</th>\n",
       "      <td>18</td>\n",
       "      <td>female</td>\n",
       "      <td>36.850</td>\n",
       "      <td>0</td>\n",
       "      <td>no</td>\n",
       "      <td>southeast</td>\n",
       "      <td>1629.83350</td>\n",
       "    </tr>\n",
       "    <tr>\n",
       "      <th>1335</th>\n",
       "      <td>21</td>\n",
       "      <td>female</td>\n",
       "      <td>25.800</td>\n",
       "      <td>0</td>\n",
       "      <td>no</td>\n",
       "      <td>southwest</td>\n",
       "      <td>2007.94500</td>\n",
       "    </tr>\n",
       "    <tr>\n",
       "      <th>1336</th>\n",
       "      <td>61</td>\n",
       "      <td>female</td>\n",
       "      <td>29.070</td>\n",
       "      <td>0</td>\n",
       "      <td>yes</td>\n",
       "      <td>northwest</td>\n",
       "      <td>29141.36030</td>\n",
       "    </tr>\n",
       "  </tbody>\n",
       "</table>\n",
       "<p>1337 rows × 7 columns</p>\n",
       "</div>"
      ],
      "text/plain": [
       "      age     sex     bmi  children smoker     region      charges\n",
       "0      19  female  27.900         0    yes  southwest  16884.92400\n",
       "1      18    male  33.770         1     no  southeast   1725.55230\n",
       "2      28    male  33.000         3     no  southeast   4449.46200\n",
       "3      33    male  22.705         0     no  northwest  21984.47061\n",
       "4      32    male  28.880         0     no  northwest   3866.85520\n",
       "...   ...     ...     ...       ...    ...        ...          ...\n",
       "1332   50    male  30.970         3     no  northwest  10600.54830\n",
       "1333   18  female  31.920         0     no  northeast   2205.98080\n",
       "1334   18  female  36.850         0     no  southeast   1629.83350\n",
       "1335   21  female  25.800         0     no  southwest   2007.94500\n",
       "1336   61  female  29.070         0    yes  northwest  29141.36030\n",
       "\n",
       "[1337 rows x 7 columns]"
      ]
     },
     "execution_count": 28,
     "metadata": {},
     "output_type": "execute_result"
    }
   ],
   "source": [
    "# Resetting the index of the final cleaned data\n",
    "df_cleaned = df_drop_dup.reset_index(drop=True)\n",
    "df_cleaned"
   ]
  },
  {
   "cell_type": "code",
   "execution_count": 29,
   "id": "4c8d1f9d-b4c4-4b3b-979f-2d697c87adca",
   "metadata": {},
   "outputs": [],
   "source": [
    "# Save cleaned table\n",
    "df_cleaned.to_csv(\"cleaned_table.csv\")"
   ]
  },
  {
   "cell_type": "markdown",
   "id": "7cbf1533-d1a4-42b2-8d5b-36c84b151e38",
   "metadata": {},
   "source": [
    "### Split the dataset into train and test set"
   ]
  },
  {
   "cell_type": "code",
   "execution_count": 30,
   "id": "9de3d7c5-16ab-4474-ab28-2911332afbea",
   "metadata": {},
   "outputs": [],
   "source": [
    "x = df_cleaned.iloc[:,:-1] ## or x = df.drop(\"charges\", axis=1)\n",
    "y = df_cleaned.iloc[:,-1] ## or y = df[\"charges\"]"
   ]
  },
  {
   "cell_type": "code",
   "execution_count": 32,
   "id": "52002d0c-368f-41df-8070-5f48353a0033",
   "metadata": {},
   "outputs": [
    {
     "data": {
      "text/html": [
       "<div>\n",
       "<style scoped>\n",
       "    .dataframe tbody tr th:only-of-type {\n",
       "        vertical-align: middle;\n",
       "    }\n",
       "\n",
       "    .dataframe tbody tr th {\n",
       "        vertical-align: top;\n",
       "    }\n",
       "\n",
       "    .dataframe thead th {\n",
       "        text-align: right;\n",
       "    }\n",
       "</style>\n",
       "<table border=\"1\" class=\"dataframe\">\n",
       "  <thead>\n",
       "    <tr style=\"text-align: right;\">\n",
       "      <th></th>\n",
       "      <th>age</th>\n",
       "      <th>sex</th>\n",
       "      <th>bmi</th>\n",
       "      <th>children</th>\n",
       "      <th>smoker</th>\n",
       "      <th>region</th>\n",
       "    </tr>\n",
       "  </thead>\n",
       "  <tbody>\n",
       "    <tr>\n",
       "      <th>0</th>\n",
       "      <td>19</td>\n",
       "      <td>female</td>\n",
       "      <td>27.900</td>\n",
       "      <td>0</td>\n",
       "      <td>yes</td>\n",
       "      <td>southwest</td>\n",
       "    </tr>\n",
       "    <tr>\n",
       "      <th>1</th>\n",
       "      <td>18</td>\n",
       "      <td>male</td>\n",
       "      <td>33.770</td>\n",
       "      <td>1</td>\n",
       "      <td>no</td>\n",
       "      <td>southeast</td>\n",
       "    </tr>\n",
       "    <tr>\n",
       "      <th>2</th>\n",
       "      <td>28</td>\n",
       "      <td>male</td>\n",
       "      <td>33.000</td>\n",
       "      <td>3</td>\n",
       "      <td>no</td>\n",
       "      <td>southeast</td>\n",
       "    </tr>\n",
       "    <tr>\n",
       "      <th>3</th>\n",
       "      <td>33</td>\n",
       "      <td>male</td>\n",
       "      <td>22.705</td>\n",
       "      <td>0</td>\n",
       "      <td>no</td>\n",
       "      <td>northwest</td>\n",
       "    </tr>\n",
       "    <tr>\n",
       "      <th>4</th>\n",
       "      <td>32</td>\n",
       "      <td>male</td>\n",
       "      <td>28.880</td>\n",
       "      <td>0</td>\n",
       "      <td>no</td>\n",
       "      <td>northwest</td>\n",
       "    </tr>\n",
       "  </tbody>\n",
       "</table>\n",
       "</div>"
      ],
      "text/plain": [
       "   age     sex     bmi  children smoker     region\n",
       "0   19  female  27.900         0    yes  southwest\n",
       "1   18    male  33.770         1     no  southeast\n",
       "2   28    male  33.000         3     no  southeast\n",
       "3   33    male  22.705         0     no  northwest\n",
       "4   32    male  28.880         0     no  northwest"
      ]
     },
     "execution_count": 32,
     "metadata": {},
     "output_type": "execute_result"
    }
   ],
   "source": [
    "x.head()"
   ]
  },
  {
   "cell_type": "code",
   "execution_count": 43,
   "id": "65b2487a-5360-45fc-9671-d6db34fe0f22",
   "metadata": {},
   "outputs": [
    {
     "data": {
      "text/plain": [
       "0    16884.92400\n",
       "1     1725.55230\n",
       "2     4449.46200\n",
       "3    21984.47061\n",
       "4     3866.85520\n",
       "Name: charges, dtype: float64"
      ]
     },
     "execution_count": 43,
     "metadata": {},
     "output_type": "execute_result"
    }
   ],
   "source": [
    "y.head()"
   ]
  },
  {
   "cell_type": "code",
   "execution_count": 33,
   "id": "af08a7d9-c3ae-4390-a31e-ba2c830eaffb",
   "metadata": {},
   "outputs": [],
   "source": [
    "x_train, x_test, y_train, y_test = train_test_split(x, y, test_size=0.2, random_state=42)"
   ]
  },
  {
   "cell_type": "code",
   "execution_count": 34,
   "id": "08050f5a-d7b9-4376-9731-a83f2d5265f9",
   "metadata": {},
   "outputs": [
    {
     "name": "stdout",
     "output_type": "stream",
     "text": [
      "(1337, 6) (1069, 6) (268, 6)\n"
     ]
    }
   ],
   "source": [
    "print (x.shape, x_train.shape, x_test.shape)"
   ]
  },
  {
   "cell_type": "code",
   "execution_count": 36,
   "id": "9cfcc9c1-e594-410c-a922-9b68a265e8ce",
   "metadata": {},
   "outputs": [
    {
     "data": {
      "text/plain": [
       "OneHotEncoder()"
      ]
     },
     "execution_count": 36,
     "metadata": {},
     "output_type": "execute_result"
    }
   ],
   "source": [
    "# Creating an OneHotEncoder object to contain the categorical features\n",
    "from sklearn.preprocessing import OneHotEncoder\n",
    "\n",
    "ohe = OneHotEncoder()\n",
    "ohe.fit(x[['sex' , 'smoker', 'region']])"
   ]
  },
  {
   "cell_type": "code",
   "execution_count": 38,
   "id": "5c98d8b7-e89d-4bb2-bc4b-82ad7b192252",
   "metadata": {},
   "outputs": [],
   "source": [
    "# Create a column transformer to trasform categorical columns\n",
    "from sklearn.compose import make_column_transformer\n",
    "\n",
    "column_trans = make_column_transformer((OneHotEncoder(categories=ohe.categories_), ['sex' , 'smoker', 'region']), remainder='passthrough')"
   ]
  },
  {
   "cell_type": "markdown",
   "id": "f2701899-a37e-4f96-8d8c-a03b75ea7c7f",
   "metadata": {},
   "source": [
    "### Model training"
   ]
  },
  {
   "cell_type": "code",
   "execution_count": 39,
   "id": "03059d43-09dc-4913-a588-da108e058781",
   "metadata": {},
   "outputs": [],
   "source": [
    "lr = LinearRegression()\n",
    "svr = SVR()\n",
    "rfr = RandomForestRegressor()\n",
    "gbr = GradientBoostingRegressor()"
   ]
  },
  {
   "cell_type": "code",
   "execution_count": 40,
   "id": "9ed0b07b-9afc-45b4-aa99-1101ba8cd152",
   "metadata": {},
   "outputs": [],
   "source": [
    "# Making a pipeline for each model\n",
    "from sklearn.pipeline import make_pipeline\n",
    "\n",
    "lr_pipe = make_pipeline(column_trans, lr)\n",
    "svr_pipe = make_pipeline(column_trans, svr)\n",
    "rfr_pipe = make_pipeline(column_trans, rfr)\n",
    "gbr_pipe = make_pipeline(column_trans, gbr)"
   ]
  },
  {
   "cell_type": "code",
   "execution_count": 45,
   "id": "96e835ff-632a-4f50-a07d-cdd4e2279ee4",
   "metadata": {},
   "outputs": [
    {
     "data": {
      "text/plain": [
       "Pipeline(steps=[('columntransformer',\n",
       "                 ColumnTransformer(remainder='passthrough',\n",
       "                                   transformers=[('onehotencoder',\n",
       "                                                  OneHotEncoder(categories=[array(['female', 'male'], dtype=object),\n",
       "                                                                            array(['no', 'yes'], dtype=object),\n",
       "                                                                            array(['northeast', 'northwest', 'southeast', 'southwest'], dtype=object)]),\n",
       "                                                  ['sex', 'smoker',\n",
       "                                                   'region'])])),\n",
       "                ('linearregression', LinearRegression())])"
      ]
     },
     "execution_count": 45,
     "metadata": {},
     "output_type": "execute_result"
    }
   ],
   "source": [
    "# Fitting the linear Regression model\n",
    "lr_pipe.fit(x_train, y_train)"
   ]
  },
  {
   "cell_type": "code",
   "execution_count": 46,
   "id": "45727917-7c2e-407b-a9b5-20c782438b9e",
   "metadata": {},
   "outputs": [],
   "source": []
  },
  {
   "cell_type": "code",
   "execution_count": 47,
   "id": "a7e148f2-13c9-49ae-882f-36521fdce3b7",
   "metadata": {},
   "outputs": [
    {
     "data": {
      "text/plain": [
       "Pipeline(steps=[('columntransformer',\n",
       "                 ColumnTransformer(remainder='passthrough',\n",
       "                                   transformers=[('onehotencoder',\n",
       "                                                  OneHotEncoder(categories=[array(['female', 'male'], dtype=object),\n",
       "                                                                            array(['no', 'yes'], dtype=object),\n",
       "                                                                            array(['northeast', 'northwest', 'southeast', 'southwest'], dtype=object)]),\n",
       "                                                  ['sex', 'smoker',\n",
       "                                                   'region'])])),\n",
       "                ('svr', SVR())])"
      ]
     },
     "execution_count": 47,
     "metadata": {},
     "output_type": "execute_result"
    }
   ],
   "source": [
    "# Fitting the Support vector regressor model\n",
    "svr_pipe.fit(x_train, y_train)"
   ]
  },
  {
   "cell_type": "code",
   "execution_count": 48,
   "id": "72593d0c-01f0-47ce-b850-2790bdbaa3f0",
   "metadata": {},
   "outputs": [],
   "source": []
  },
  {
   "cell_type": "code",
   "execution_count": 49,
   "id": "c55db16e-a7b8-4f50-8daa-c98d3e2af008",
   "metadata": {},
   "outputs": [
    {
     "data": {
      "text/plain": [
       "Pipeline(steps=[('columntransformer',\n",
       "                 ColumnTransformer(remainder='passthrough',\n",
       "                                   transformers=[('onehotencoder',\n",
       "                                                  OneHotEncoder(categories=[array(['female', 'male'], dtype=object),\n",
       "                                                                            array(['no', 'yes'], dtype=object),\n",
       "                                                                            array(['northeast', 'northwest', 'southeast', 'southwest'], dtype=object)]),\n",
       "                                                  ['sex', 'smoker',\n",
       "                                                   'region'])])),\n",
       "                ('randomforestregressor', RandomForestRegressor())])"
      ]
     },
     "execution_count": 49,
     "metadata": {},
     "output_type": "execute_result"
    }
   ],
   "source": [
    "# Fitting the Random forest regressor model\n",
    "rfr_pipe.fit(x_train, y_train)"
   ]
  },
  {
   "cell_type": "code",
   "execution_count": 50,
   "id": "34171192-616a-4182-b433-0913ffb9cdc6",
   "metadata": {},
   "outputs": [],
   "source": []
  },
  {
   "cell_type": "code",
   "execution_count": 52,
   "id": "04c85399-38bd-48a9-a009-2a440f13dcb1",
   "metadata": {},
   "outputs": [
    {
     "data": {
      "text/plain": [
       "Pipeline(steps=[('columntransformer',\n",
       "                 ColumnTransformer(remainder='passthrough',\n",
       "                                   transformers=[('onehotencoder',\n",
       "                                                  OneHotEncoder(categories=[array(['female', 'male'], dtype=object),\n",
       "                                                                            array(['no', 'yes'], dtype=object),\n",
       "                                                                            array(['northeast', 'northwest', 'southeast', 'southwest'], dtype=object)]),\n",
       "                                                  ['sex', 'smoker',\n",
       "                                                   'region'])])),\n",
       "                ('gradientboostingregressor', GradientBoostingRegressor())])"
      ]
     },
     "execution_count": 52,
     "metadata": {},
     "output_type": "execute_result"
    }
   ],
   "source": [
    "# Fitting the Gradient boosting regressor model\n",
    "gbr_pipe.fit(x_train, y_train)"
   ]
  },
  {
   "cell_type": "code",
   "execution_count": 53,
   "id": "5f82ec90-121e-438b-951c-87ae17274143",
   "metadata": {},
   "outputs": [],
   "source": []
  },
  {
   "cell_type": "markdown",
   "id": "0db3b9e9-9214-4260-abf3-930528611cb8",
   "metadata": {},
   "source": [
    "### Models predictions"
   ]
  },
  {
   "cell_type": "code",
   "execution_count": 90,
   "id": "37c8636f-b2b4-4ab1-9ca9-ee126332a8cc",
   "metadata": {},
   "outputs": [],
   "source": [
    "# LR Predict on test data\n",
    "y_pred_lr = lr_pipe.predict(x_test)\n",
    "\n",
    "# SVR Predict on test data\n",
    "y_pred_svr = svr_pipe.predict(x_test)\n",
    "\n",
    "# RFR Predict on test data\n",
    "y_pred_rfr = rfr_pipe.predict(x_test)\n",
    "\n",
    "# RFR Predict on test data\n",
    "y_pred_gbr = gbr_pipe.predict(x_test)"
   ]
  },
  {
   "cell_type": "code",
   "execution_count": 91,
   "id": "6fa65ae1-2809-48f2-9aaa-46268a724e7c",
   "metadata": {},
   "outputs": [
    {
     "data": {
      "text/html": [
       "<div>\n",
       "<style scoped>\n",
       "    .dataframe tbody tr th:only-of-type {\n",
       "        vertical-align: middle;\n",
       "    }\n",
       "\n",
       "    .dataframe tbody tr th {\n",
       "        vertical-align: top;\n",
       "    }\n",
       "\n",
       "    .dataframe thead th {\n",
       "        text-align: right;\n",
       "    }\n",
       "</style>\n",
       "<table border=\"1\" class=\"dataframe\">\n",
       "  <thead>\n",
       "    <tr style=\"text-align: right;\">\n",
       "      <th></th>\n",
       "      <th>Actual</th>\n",
       "      <th>LR</th>\n",
       "      <th>SVR</th>\n",
       "      <th>Random Forest Regressor</th>\n",
       "      <th>Gradient Boosting Regressor</th>\n",
       "    </tr>\n",
       "  </thead>\n",
       "  <tbody>\n",
       "    <tr>\n",
       "      <th>899</th>\n",
       "      <td>8688.85885</td>\n",
       "      <td>8143.693884</td>\n",
       "      <td>9286.059108</td>\n",
       "      <td>9238.602401</td>\n",
       "      <td>10571.650620</td>\n",
       "    </tr>\n",
       "    <tr>\n",
       "      <th>1063</th>\n",
       "      <td>5708.86700</td>\n",
       "      <td>5737.115683</td>\n",
       "      <td>9178.981906</td>\n",
       "      <td>6769.535991</td>\n",
       "      <td>7016.725897</td>\n",
       "    </tr>\n",
       "    <tr>\n",
       "      <th>1255</th>\n",
       "      <td>11436.73815</td>\n",
       "      <td>14369.314876</td>\n",
       "      <td>9302.150266</td>\n",
       "      <td>12294.191571</td>\n",
       "      <td>13396.659345</td>\n",
       "    </tr>\n",
       "    <tr>\n",
       "      <th>298</th>\n",
       "      <td>38746.35510</td>\n",
       "      <td>31745.513636</td>\n",
       "      <td>9191.008932</td>\n",
       "      <td>42987.418956</td>\n",
       "      <td>38934.127303</td>\n",
       "    </tr>\n",
       "    <tr>\n",
       "      <th>237</th>\n",
       "      <td>4463.20510</td>\n",
       "      <td>8962.386657</td>\n",
       "      <td>9193.054520</td>\n",
       "      <td>7927.463136</td>\n",
       "      <td>6796.933987</td>\n",
       "    </tr>\n",
       "    <tr>\n",
       "      <th>...</th>\n",
       "      <td>...</td>\n",
       "      <td>...</td>\n",
       "      <td>...</td>\n",
       "      <td>...</td>\n",
       "      <td>...</td>\n",
       "    </tr>\n",
       "    <tr>\n",
       "      <th>534</th>\n",
       "      <td>13831.11520</td>\n",
       "      <td>16753.406458</td>\n",
       "      <td>9356.652114</td>\n",
       "      <td>14281.686942</td>\n",
       "      <td>13917.986333</td>\n",
       "    </tr>\n",
       "    <tr>\n",
       "      <th>542</th>\n",
       "      <td>13887.20400</td>\n",
       "      <td>15274.565769</td>\n",
       "      <td>9355.184849</td>\n",
       "      <td>14634.148531</td>\n",
       "      <td>15149.999321</td>\n",
       "    </tr>\n",
       "    <tr>\n",
       "      <th>759</th>\n",
       "      <td>3925.75820</td>\n",
       "      <td>6454.699355</td>\n",
       "      <td>9154.509412</td>\n",
       "      <td>8428.034634</td>\n",
       "      <td>7388.634490</td>\n",
       "    </tr>\n",
       "    <tr>\n",
       "      <th>1283</th>\n",
       "      <td>47403.88000</td>\n",
       "      <td>38467.156720</td>\n",
       "      <td>9348.443125</td>\n",
       "      <td>47898.709147</td>\n",
       "      <td>49901.577458</td>\n",
       "    </tr>\n",
       "    <tr>\n",
       "      <th>1284</th>\n",
       "      <td>8534.67180</td>\n",
       "      <td>8324.070599</td>\n",
       "      <td>9275.856622</td>\n",
       "      <td>13942.285847</td>\n",
       "      <td>12337.354963</td>\n",
       "    </tr>\n",
       "  </tbody>\n",
       "</table>\n",
       "<p>268 rows × 5 columns</p>\n",
       "</div>"
      ],
      "text/plain": [
       "           Actual            LR          SVR  Random Forest Regressor  \\\n",
       "899    8688.85885   8143.693884  9286.059108              9238.602401   \n",
       "1063   5708.86700   5737.115683  9178.981906              6769.535991   \n",
       "1255  11436.73815  14369.314876  9302.150266             12294.191571   \n",
       "298   38746.35510  31745.513636  9191.008932             42987.418956   \n",
       "237    4463.20510   8962.386657  9193.054520              7927.463136   \n",
       "...           ...           ...          ...                      ...   \n",
       "534   13831.11520  16753.406458  9356.652114             14281.686942   \n",
       "542   13887.20400  15274.565769  9355.184849             14634.148531   \n",
       "759    3925.75820   6454.699355  9154.509412              8428.034634   \n",
       "1283  47403.88000  38467.156720  9348.443125             47898.709147   \n",
       "1284   8534.67180   8324.070599  9275.856622             13942.285847   \n",
       "\n",
       "      Gradient Boosting Regressor  \n",
       "899                  10571.650620  \n",
       "1063                  7016.725897  \n",
       "1255                 13396.659345  \n",
       "298                  38934.127303  \n",
       "237                   6796.933987  \n",
       "...                           ...  \n",
       "534                  13917.986333  \n",
       "542                  15149.999321  \n",
       "759                   7388.634490  \n",
       "1283                 49901.577458  \n",
       "1284                 12337.354963  \n",
       "\n",
       "[268 rows x 5 columns]"
      ]
     },
     "execution_count": 91,
     "metadata": {},
     "output_type": "execute_result"
    }
   ],
   "source": [
    "# Compare the model predictions with actual values\n",
    "\n",
    "df_pred_compare = pd.DataFrame({\"Actual\": y_test, \"LR\": y_pred_lr, \"SVR\": y_pred_svr, \"Random Forest Regressor\":y_pred_rfr, \"Gradient Boosting Regressor\": y_pred_gbr})\n",
    "df_pred_compare"
   ]
  },
  {
   "cell_type": "markdown",
   "id": "7d9875c6-f8dd-449d-a715-3d45dd7cc24e",
   "metadata": {},
   "source": [
    "### Models evaluations"
   ]
  },
  {
   "cell_type": "code",
   "execution_count": 94,
   "id": "c17a244d-7c3a-47b4-a22f-4a5306c31dab",
   "metadata": {},
   "outputs": [],
   "source": [
    "# Evaluate (with r2) and compare the performance of each model\n",
    "\n",
    "score_lr = metrics.r2_score(y_test, y_pred_lr)\n",
    "score_svr = metrics.r2_score(y_test, y_pred_svr)\n",
    "score_rfr = metrics.r2_score(y_test, y_pred_rfr)\n",
    "score_gbr = metrics.r2_score(y_test, y_pred_gbr)"
   ]
  },
  {
   "cell_type": "code",
   "execution_count": 95,
   "id": "fbc1b4e3-5e8c-4cc5-98e4-3cb94986a7e2",
   "metadata": {},
   "outputs": [
    {
     "name": "stdout",
     "output_type": "stream",
     "text": [
      " LR: 80.69% \n",
      "SVR: -13.45%  \n",
      "RFR: 88.63% \n",
      "GBR: 90.04% \n"
     ]
    }
   ],
   "source": [
    "print(f\" LR: {round(score_lr*100, 2)}% \\nSVR: {round(score_svr*100, 2)}%  \\nRFR: {round(score_rfr*100, 2)}% \\nGBR: {round(score_gbr*100, 2)}% \")"
   ]
  },
  {
   "cell_type": "code",
   "execution_count": 96,
   "id": "428740ac-3c0b-4641-8286-15da3048c37f",
   "metadata": {},
   "outputs": [],
   "source": [
    "# --> GBR Model is performing better with score = 90.04%"
   ]
  },
  {
   "cell_type": "code",
   "execution_count": 97,
   "id": "6a88160f-b57b-480a-aea5-62d7b7d8b0d9",
   "metadata": {},
   "outputs": [
    {
     "name": "stdout",
     "output_type": "stream",
     "text": [
      " LR: 4177.045561036324 \n",
      "SVR: 9255.290672737716  \n",
      "RFR: 2570.3705704611934 \n",
      "GBR: 2540.151447730098\n"
     ]
    }
   ],
   "source": [
    "# Evaluate with mean absolute error\n",
    "score_lr_mae = metrics.mean_absolute_error(y_test, y_pred_lr)\n",
    "score_svr_mae = metrics.mean_absolute_error(y_test, y_pred_svr)\n",
    "score_rfr_mae = metrics.mean_absolute_error(y_test, y_pred_rfr)\n",
    "score_gbr_mae = metrics.mean_absolute_error(y_test, y_pred_gbr)\n",
    "print(f\" LR: {score_lr_mae} \\nSVR: {score_svr_mae}  \\nRFR: {score_rfr_mae} \\nGBR: {score_gbr_mae}\")"
   ]
  },
  {
   "cell_type": "code",
   "execution_count": 89,
   "id": "a41bb3ca-ef37-4646-ac52-684db7df7af9",
   "metadata": {},
   "outputs": [],
   "source": [
    "# GBR has the lowest GBR --> best model"
   ]
  },
  {
   "cell_type": "markdown",
   "id": "5c91b2b5-b788-4f07-88bb-32fa19abfc03",
   "metadata": {},
   "source": [
    "### Test: Predict charges for a new custumer"
   ]
  },
  {
   "cell_type": "code",
   "execution_count": 99,
   "id": "8b51a23e-dbd4-4fa2-9f87-2b016cb24b5b",
   "metadata": {},
   "outputs": [
    {
     "data": {
      "text/html": [
       "<div>\n",
       "<style scoped>\n",
       "    .dataframe tbody tr th:only-of-type {\n",
       "        vertical-align: middle;\n",
       "    }\n",
       "\n",
       "    .dataframe tbody tr th {\n",
       "        vertical-align: top;\n",
       "    }\n",
       "\n",
       "    .dataframe thead th {\n",
       "        text-align: right;\n",
       "    }\n",
       "</style>\n",
       "<table border=\"1\" class=\"dataframe\">\n",
       "  <thead>\n",
       "    <tr style=\"text-align: right;\">\n",
       "      <th></th>\n",
       "      <th>age</th>\n",
       "      <th>sex</th>\n",
       "      <th>bmi</th>\n",
       "      <th>children</th>\n",
       "      <th>smoker</th>\n",
       "      <th>region</th>\n",
       "    </tr>\n",
       "  </thead>\n",
       "  <tbody>\n",
       "    <tr>\n",
       "      <th>0</th>\n",
       "      <td>29</td>\n",
       "      <td>female</td>\n",
       "      <td>22.3</td>\n",
       "      <td>0</td>\n",
       "      <td>no</td>\n",
       "      <td>southeast</td>\n",
       "    </tr>\n",
       "  </tbody>\n",
       "</table>\n",
       "</div>"
      ],
      "text/plain": [
       "   age     sex   bmi  children smoker     region\n",
       "0   29  female  22.3         0     no  southeast"
      ]
     },
     "execution_count": 99,
     "metadata": {},
     "output_type": "execute_result"
    }
   ],
   "source": [
    "data = {\"age\": 29, \"sex\": \"female\", \"bmi\": 22.3, \"children\": 0, \"smoker\": \"no\", \"region\": \"southeast\"}\n",
    "\n",
    "df_test_new = pd.DataFrame(data, index = [0])\n",
    "df_test_new"
   ]
  },
  {
   "cell_type": "code",
   "execution_count": 102,
   "id": "981600e6-a1b5-4789-8cb7-d324bb73eab1",
   "metadata": {},
   "outputs": [
    {
     "name": "stdout",
     "output_type": "stream",
     "text": [
      " predicted charge: [4388.91708892]\n"
     ]
    }
   ],
   "source": [
    "new_predict = gbr_pipe.predict(df_test_new)\n",
    "print(f\" predicted charge: {new_predict}\")"
   ]
  },
  {
   "cell_type": "markdown",
   "id": "d7842268-aea9-4f6d-8aea-edeea3c60aa1",
   "metadata": {},
   "source": [
    "### Save model"
   ]
  },
  {
   "cell_type": "code",
   "execution_count": 103,
   "id": "9e1bd547-38dc-4943-b906-f77f14be47c2",
   "metadata": {},
   "outputs": [
    {
     "data": {
      "text/plain": [
       "Pipeline(steps=[('columntransformer',\n",
       "                 ColumnTransformer(remainder='passthrough',\n",
       "                                   transformers=[('onehotencoder',\n",
       "                                                  OneHotEncoder(categories=[array(['female', 'male'], dtype=object),\n",
       "                                                                            array(['no', 'yes'], dtype=object),\n",
       "                                                                            array(['northeast', 'northwest', 'southeast', 'southwest'], dtype=object)]),\n",
       "                                                  ['sex', 'smoker',\n",
       "                                                   'region'])])),\n",
       "                ('gradientboostingregressor', GradientBoostingRegressor())])"
      ]
     },
     "execution_count": 103,
     "metadata": {},
     "output_type": "execute_result"
    }
   ],
   "source": [
    "# Before saving the model train the model on the entire dataset to achieve a better accuracy\n",
    "gbr_pipe.fit(x, y)"
   ]
  },
  {
   "cell_type": "code",
   "execution_count": 106,
   "id": "d04f1fc8-cb3c-40ac-b70a-ef3351ca221e",
   "metadata": {},
   "outputs": [
    {
     "data": {
      "text/plain": [
       "['saved_model/gbr_model.pkl']"
      ]
     },
     "execution_count": 106,
     "metadata": {},
     "output_type": "execute_result"
    }
   ],
   "source": [
    "# Now save the model as a picke file\n",
    "import joblib\n",
    "\n",
    "joblib.dump(gbr_pipe, 'saved_model/gbr_model.pkl')"
   ]
  },
  {
   "cell_type": "code",
   "execution_count": null,
   "id": "feb9cb34-482c-4cc6-af5a-416049cb45cb",
   "metadata": {},
   "outputs": [],
   "source": []
  }
 ],
 "metadata": {
  "kernelspec": {
   "display_name": "Python 3 (ipykernel)",
   "language": "python",
   "name": "python3"
  },
  "language_info": {
   "codemirror_mode": {
    "name": "ipython",
    "version": 3
   },
   "file_extension": ".py",
   "mimetype": "text/x-python",
   "name": "python",
   "nbconvert_exporter": "python",
   "pygments_lexer": "ipython3",
   "version": "3.7.15"
  }
 },
 "nbformat": 4,
 "nbformat_minor": 5
}
